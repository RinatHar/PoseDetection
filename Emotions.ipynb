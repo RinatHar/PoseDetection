{
  "cells": [
    {
      "cell_type": "code",
      "execution_count": 1,
      "id": "a3e9c4df-6920-4b22-a764-4d3179684b74",
      "metadata": {
        "colab": {
          "base_uri": "https://localhost:8080/"
        },
        "id": "a3e9c4df-6920-4b22-a764-4d3179684b74",
        "outputId": "9e5c152c-2d98-41ff-b444-0b3f071013e1"
      },
      "outputs": [
        {
          "name": "stdout",
          "output_type": "stream",
          "text": [
            "Defaulting to user installation because normal site-packages is not writeable\n",
            "Requirement already satisfied: mediapipe in /Users/student/Library/Python/3.9/lib/python/site-packages (0.10.21)\n",
            "Requirement already satisfied: matplotlib in /Users/student/Library/Python/3.9/lib/python/site-packages (from mediapipe) (3.9.4)\n",
            "Requirement already satisfied: sentencepiece in /Users/student/Library/Python/3.9/lib/python/site-packages (from mediapipe) (0.2.0)\n",
            "Requirement already satisfied: jaxlib in /Users/student/Library/Python/3.9/lib/python/site-packages (from mediapipe) (0.4.30)\n",
            "Requirement already satisfied: flatbuffers>=2.0 in /Users/student/Library/Python/3.9/lib/python/site-packages (from mediapipe) (25.2.10)\n",
            "Requirement already satisfied: opencv-contrib-python in /Users/student/Library/Python/3.9/lib/python/site-packages (from mediapipe) (4.11.0.86)\n",
            "Requirement already satisfied: attrs>=19.1.0 in /Users/student/Library/Python/3.9/lib/python/site-packages (from mediapipe) (25.3.0)\n",
            "Requirement already satisfied: protobuf<5,>=4.25.3 in /Users/student/Library/Python/3.9/lib/python/site-packages (from mediapipe) (4.25.6)\n",
            "Requirement already satisfied: jax in /Users/student/Library/Python/3.9/lib/python/site-packages (from mediapipe) (0.4.30)\n",
            "Requirement already satisfied: absl-py in /Users/student/Library/Python/3.9/lib/python/site-packages (from mediapipe) (2.2.2)\n",
            "Requirement already satisfied: numpy<2 in /Library/Python/3.9/site-packages (from mediapipe) (1.26.2)\n",
            "Requirement already satisfied: sounddevice>=0.4.4 in /Users/student/Library/Python/3.9/lib/python/site-packages (from mediapipe) (0.5.1)\n",
            "Requirement already satisfied: CFFI>=1.0 in /Users/student/Library/Python/3.9/lib/python/site-packages (from sounddevice>=0.4.4->mediapipe) (1.17.1)\n",
            "Requirement already satisfied: pycparser in /Users/student/Library/Python/3.9/lib/python/site-packages (from CFFI>=1.0->sounddevice>=0.4.4->mediapipe) (2.22)\n",
            "Requirement already satisfied: ml-dtypes>=0.2.0 in /Users/student/Library/Python/3.9/lib/python/site-packages (from jax->mediapipe) (0.5.1)\n",
            "Requirement already satisfied: scipy>=1.9 in /Users/student/Library/Python/3.9/lib/python/site-packages (from jax->mediapipe) (1.13.1)\n",
            "Requirement already satisfied: opt-einsum in /Users/student/Library/Python/3.9/lib/python/site-packages (from jax->mediapipe) (3.4.0)\n",
            "Requirement already satisfied: importlib-metadata>=4.6 in /Users/student/Library/Python/3.9/lib/python/site-packages (from jax->mediapipe) (8.6.1)\n",
            "Requirement already satisfied: zipp>=3.20 in /Users/student/Library/Python/3.9/lib/python/site-packages (from importlib-metadata>=4.6->jax->mediapipe) (3.21.0)\n",
            "Requirement already satisfied: pillow>=8 in /Users/student/Library/Python/3.9/lib/python/site-packages (from matplotlib->mediapipe) (11.1.0)\n",
            "Requirement already satisfied: packaging>=20.0 in /Users/student/Library/Python/3.9/lib/python/site-packages (from matplotlib->mediapipe) (24.2)\n",
            "Requirement already satisfied: python-dateutil>=2.7 in /Users/student/Library/Python/3.9/lib/python/site-packages (from matplotlib->mediapipe) (2.9.0.post0)\n",
            "Requirement already satisfied: importlib-resources>=3.2.0 in /Users/student/Library/Python/3.9/lib/python/site-packages (from matplotlib->mediapipe) (6.5.2)\n",
            "Requirement already satisfied: contourpy>=1.0.1 in /Users/student/Library/Python/3.9/lib/python/site-packages (from matplotlib->mediapipe) (1.3.0)\n",
            "Requirement already satisfied: kiwisolver>=1.3.1 in /Users/student/Library/Python/3.9/lib/python/site-packages (from matplotlib->mediapipe) (1.4.7)\n",
            "Requirement already satisfied: fonttools>=4.22.0 in /Users/student/Library/Python/3.9/lib/python/site-packages (from matplotlib->mediapipe) (4.57.0)\n",
            "Requirement already satisfied: pyparsing>=2.3.1 in /Users/student/Library/Python/3.9/lib/python/site-packages (from matplotlib->mediapipe) (3.2.3)\n",
            "Requirement already satisfied: cycler>=0.10 in /Users/student/Library/Python/3.9/lib/python/site-packages (from matplotlib->mediapipe) (0.12.1)\n",
            "Requirement already satisfied: six>=1.5 in /Applications/Xcode.app/Contents/Developer/Library/Frameworks/Python3.framework/Versions/3.9/lib/python3.9/site-packages (from python-dateutil>=2.7->matplotlib->mediapipe) (1.15.0)\n",
            "\u001b[33mWARNING: You are using pip version 21.2.4; however, version 25.0.1 is available.\n",
            "You should consider upgrading via the '/Applications/Xcode.app/Contents/Developer/usr/bin/python3 -m pip install --upgrade pip' command.\u001b[0m\n",
            "Note: you may need to restart the kernel to use updated packages.\n"
          ]
        }
      ],
      "source": [
        "pip install mediapipe keyboard deepFace"
      ]
    },
    {
      "cell_type": "code",
      "execution_count": 19,
      "id": "5ba7402d-0553-4e44-9b67-1b0afc835f42",
      "metadata": {
        "id": "5ba7402d-0553-4e44-9b67-1b0afc835f42"
      },
      "outputs": [
        {
          "name": "stderr",
          "output_type": "stream",
          "text": [
            "I0000 00:00:1744372322.723130 3911742 gl_context.cc:369] GL version: 2.1 (2.1 ATI-5.5.17), renderer: AMD Radeon Pro 570X OpenGL Engine\n",
            "W0000 00:00:1744372322.726793 3928817 inference_feedback_manager.cc:114] Feedback manager requires a model with a single signature inference. Disabling support for feedback tensors.\n",
            "W0000 00:00:1744372322.742456 3928817 inference_feedback_manager.cc:114] Feedback manager requires a model with a single signature inference. Disabling support for feedback tensors.\n"
          ]
        },
        {
          "name": "stdout",
          "output_type": "stream",
          "text": [
            "25-04-11 16:52:03 - facial_expression_model_weights.h5 will be downloaded...\n"
          ]
        },
        {
          "name": "stderr",
          "output_type": "stream",
          "text": [
            "Downloading...\n",
            "From: https://github.com/serengil/deepface_models/releases/download/v1.0/facial_expression_model_weights.h5\n",
            "To: /Users/student/.deepface/weights/facial_expression_model_weights.h5\n",
            "100%|██████████| 5.98M/5.98M [00:00<00:00, 7.99MB/s]\n"
          ]
        }
      ],
      "source": [
        "import cv2\n",
        "import mediapipe as mp\n",
        "from deepface import DeepFace\n",
        "import time\n",
        "\n",
        "# Инициализация камеры\n",
        "cap = cv2.VideoCapture(0)\n",
        "cap.set(3, 640)  # Ширина\n",
        "cap.set(4, 480)  # Высота\n",
        "cap.set(10, 100)  # Яркость\n",
        "\n",
        "# Инициализация MediaPipe Face Mesh\n",
        "mp_face_mesh = mp.solutions.face_mesh\n",
        "face_mesh = mp_face_mesh.FaceMesh(\n",
        "    max_num_faces=1,\n",
        "    refine_landmarks=True,\n",
        "    min_detection_confidence=0.7,\n",
        "    min_tracking_confidence=0.7)\n",
        "\n",
        "# Стиль для отрисовки landmarks\n",
        "mp_drawing = mp.solutions.drawing_utils\n",
        "drawing_spec = mp_drawing.DrawingSpec(thickness=1, circle_radius=1, color=(0, 255, 0))\n",
        "\n",
        "# Переменные для FPS\n",
        "pTime = 0\n",
        "emotion = \"Neutral\"\n",
        "prev_emotion_time = 0\n",
        "emotion_update_interval = 1  # Обновлять эмоцию каждую секунду\n",
        "\n",
        "while True:\n",
        "    success, img = cap.read()\n",
        "    if not success:\n",
        "        break\n",
        "        \n",
        "    img = cv2.flip(img, 1)  # Зеркальное отражение\n",
        "    img_rgb = cv2.cvtColor(img, cv2.COLOR_BGR2RGB)\n",
        "    \n",
        "    # Обработка Face Mesh\n",
        "    results = face_mesh.process(img_rgb)\n",
        "    \n",
        "    if results.multi_face_landmarks:\n",
        "        for face_landmarks in results.multi_face_landmarks:\n",
        "            # Рисуем landmarks лица\n",
        "            mp_drawing.draw_landmarks(\n",
        "                image=img,\n",
        "                landmark_list=face_landmarks,\n",
        "                connections=mp_face_mesh.FACEMESH_TESSELATION,\n",
        "                landmark_drawing_spec=drawing_spec,\n",
        "                connection_drawing_spec=drawing_spec)\n",
        "            \n",
        "            # Анализ эмоций с DeepFace (с ограниченной частотой)\n",
        "            current_time = time.time()\n",
        "            if current_time - prev_emotion_time > emotion_update_interval:\n",
        "                try:\n",
        "                    # Конвертируем в RGB для DeepFace\n",
        "                    analysis = DeepFace.analyze(img_rgb, actions=['emotion'], enforce_detection=False)\n",
        "                    if analysis and isinstance(analysis, list):\n",
        "                        emotion = analysis[0]['dominant_emotion']\n",
        "                    prev_emotion_time = current_time\n",
        "                except Exception as e:\n",
        "                    print(f\"DeepFace error: {e}\")\n",
        "                    emotion = \"Error\"\n",
        "    \n",
        "    # Отображение информации\n",
        "    cv2.putText(img, f'Emotion: {emotion}', (10, 50), \n",
        "                cv2.FONT_HERSHEY_SIMPLEX, 1, (0, 255, 0), 2)\n",
        "    \n",
        "    # Вычисление FPS\n",
        "    cTime = time.time()\n",
        "    fps = 1 / (cTime - pTime)\n",
        "    pTime = cTime\n",
        "    cv2.putText(img, f'FPS: {int(fps)}', (10, 80), \n",
        "                cv2.FONT_HERSHEY_SIMPLEX, 0.7, (255, 0, 0), 2)\n",
        "    \n",
        "    cv2.imshow('Emotion Detection with DeepFace', img)\n",
        "    if cv2.waitKey(1) == 27:  # Выход по ESC\n",
        "        break\n",
        "\n",
        "cap.release()\n",
        "cv2.destroyAllWindows()"
      ]
    }
  ],
  "metadata": {
    "colab": {
      "provenance": []
    },
    "kernelspec": {
      "display_name": "Python 3",
      "language": "python",
      "name": "python3"
    },
    "language_info": {
      "codemirror_mode": {
        "name": "ipython",
        "version": 3
      },
      "file_extension": ".py",
      "mimetype": "text/x-python",
      "name": "python",
      "nbconvert_exporter": "python",
      "pygments_lexer": "ipython3",
      "version": "3.9.6"
    }
  },
  "nbformat": 4,
  "nbformat_minor": 5
}
